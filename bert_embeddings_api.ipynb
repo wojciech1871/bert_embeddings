{
 "cells": [
  {
   "cell_type": "markdown",
   "metadata": {},
   "source": [
    "## Bert - POC"
   ]
  },
  {
   "cell_type": "code",
   "execution_count": 1,
   "metadata": {},
   "outputs": [],
   "source": [
    "import numpy as np\n",
    "import torch\n",
    "from pytorch_pretrained_bert import BertTokenizer, BertModel, BertForMaskedLM\n",
    "\n",
    "import os\n",
    "import logging\n",
    "import matplotlib.pyplot as plt\n",
    "import seaborn as sns\n",
    "%matplotlib inline"
   ]
  },
  {
   "cell_type": "code",
   "execution_count": 2,
   "metadata": {},
   "outputs": [],
   "source": [
    "class BertBaseMultilingualEmbeddingApi:\n",
    "    \n",
    "    def __init__(self, model_name=\"bert-base-multilingual-cased\", cuda=True):\n",
    "        self.device = 'cuda:0' if torch.cuda.is_available() else 'cpu'\n",
    "        self.tokenizer = BertTokenizer.from_pretrained(model_name)\n",
    "        self.model = BertModel.from_pretrained(model_name).to(self.device)\n",
    "        self.model.eval()\n",
    "        \n",
    "        self.tokens_tensor = None\n",
    "        self.segments_tensor = None\n",
    "        \n",
    "        self.encoded_layers_ = None\n",
    "        self.token_embeddings_ = None\n",
    "        \n",
    "    def _tokenize_text(self, text):\n",
    "        marked_text = \"[CLS] \" + text + \" [SEP]\"\n",
    "        tokenized_text = self.tokenizer.tokenize(marked_text)\n",
    "        indexed_tokens = self.tokenizer.convert_tokens_to_ids(tokenized_text)\n",
    "        segments_ids = [1] * len(tokenized_text)\n",
    "        \n",
    "        self.tokens_tensor = torch.tensor([indexed_tokens]).to(self.device)\n",
    "        self.segments_tensor = torch.tensor([segments_ids]).to(self.device)\n",
    "    \n",
    "    def _evaluate(self):\n",
    "        with torch.no_grad():\n",
    "            encoded_layers, _ = self.model(self.tokens_tensor, self.segments_tensor)\n",
    "        self.encoded_layers_ = encoded_layers\n",
    "    \n",
    "    def _generate_token_embeddings(self, batch_i=0):\n",
    "        \"\"\"\n",
    "        Convert the hidden state embeddings into single token vectors\n",
    "        Holds the list of 12 layer embeddings for each token\n",
    "        Will have the shape: [# tokens, # layers, # features]\n",
    "        \"\"\"\n",
    "        token_embeddings = [] \n",
    "        # For each token in the sentence...\n",
    "        for token_i in range(len(self.encoded_layers_[-1][batch_i])):\n",
    "            # Holds 12 layers of hidden states for each token \n",
    "            hidden_layers = [] \n",
    "            # For each of the 12 layers...\n",
    "            for layer_i in range(len(self.encoded_layers_)):\n",
    "            # Lookup the vector for `token_i` in `layer_i`\n",
    "                vec = self.encoded_layers_[layer_i][batch_i][token_i]\n",
    "                hidden_layers.append(vec)\n",
    "            token_embeddings.append(hidden_layers)\n",
    "        self.token_embeddings_ = token_embeddings\n",
    "    \n",
    "    def feed_forward(self, sentence):\n",
    "        self._tokenize_text(sentence)\n",
    "        self._evaluate()\n",
    "        self._generate_token_embeddings()\n",
    "    \n",
    "    def create_word_embedding_(self, how=\"cat_last_4\"):\n",
    "        if how == \"cat_last_4\":\n",
    "            return [torch.cat((layer[-1], layer[-2], layer[-3], layer[-4]), 0) for layer in self.token_embeddings_]\n",
    "        elif how == \"sum_last_4\":\n",
    "            return [torch.sum(torch.stack(layer)[-4:], 0) for layer in self.token_embeddings_]\n",
    "        else:\n",
    "            print(\"Redefine `how` parameter\")\n",
    "        \n",
    "    def create_sentence_embedding_(self, how=\"mean_last_layer\"):\n",
    "        if how == \"mean_last_layer\":\n",
    "            return torch.mean(self.encoded_layers_[-1], 1).squeeze()\n",
    "        else:\n",
    "            print(\"Redefine `how` parameter\")\n",
    "            \n",
    "    def print_dimensions_(self):\n",
    "        print (\"Number of layers:\", len(self.encoded_layers_))\n",
    "        layer_i = 0\n",
    "        print (\"Number of batches:\", len(self.encoded_layers_[layer_i]))\n",
    "        batch_i = 0\n",
    "        print (\"Number of tokens:\", len(self.encoded_layers_[layer_i][batch_i]))\n",
    "        token_i = 0\n",
    "        print (\"Number of hidden units:\", len(self.encoded_layers_[layer_i][batch_i][token_i]))\n",
    "        \n",
    "    def plot_embedding_hist(self, vec):\n",
    "        sns.set_style(\"whitegrid\")\n",
    "        plt.figure(figsize=(12, 8))\n",
    "        sns.distplot(vec)\n",
    "        plt.show()"
   ]
  },
  {
   "cell_type": "markdown",
   "metadata": {},
   "source": [
    "## Example usage"
   ]
  },
  {
   "cell_type": "markdown",
   "metadata": {},
   "source": [
    "1. Create API object"
   ]
  },
  {
   "cell_type": "code",
   "execution_count": 3,
   "metadata": {},
   "outputs": [
    {
     "name": "stderr",
     "output_type": "stream",
     "text": [
      "The pre-trained model you are loading is a cased model but you have not set `do_lower_case` to False. We are setting `do_lower_case=False` for you but you may want to check this behavior.\n"
     ]
    }
   ],
   "source": [
    "bert = BertBaseMultilingualEmbeddingApi()"
   ]
  },
  {
   "cell_type": "markdown",
   "metadata": {},
   "source": [
    "2. Create sentence and pass to feed_forward method"
   ]
  },
  {
   "cell_type": "code",
   "execution_count": 4,
   "metadata": {},
   "outputs": [],
   "source": [
    "sentence = \"Oszczędnością i pracą ludzie się bogacą.\"\n",
    "bert.feed_forward(sentence)"
   ]
  },
  {
   "cell_type": "markdown",
   "metadata": {},
   "source": [
    "3. Generate word/sentence embedding, specify `how`"
   ]
  },
  {
   "cell_type": "code",
   "execution_count": 5,
   "metadata": {},
   "outputs": [],
   "source": [
    "words_embeddings = bert.create_word_embedding_(how = \"sum_last_4\")"
   ]
  },
  {
   "cell_type": "code",
   "execution_count": 6,
   "metadata": {},
   "outputs": [],
   "source": [
    "sent_embedding = bert.create_sentence_embedding_()"
   ]
  },
  {
   "cell_type": "markdown",
   "metadata": {},
   "source": [
    "4. Visualize tensor"
   ]
  },
  {
   "cell_type": "code",
   "execution_count": 7,
   "metadata": {},
   "outputs": [
    {
     "data": {
      "image/png": "[encoded data removed]",
      "text/plain": [
       "<Figure size 864x576 with 1 Axes>"
      ]
     },
     "metadata": {},
     "output_type": "display_data"
    }
   ],
   "source": [
    "bert.plot_embedding_hist(sent_embedding)"
   ]
  },
  {
   "cell_type": "markdown",
   "metadata": {},
   "source": [
    "## Visualize embeddings in tensorboard"
   ]
  },
  {
   "cell_type": "code",
   "execution_count": null,
   "metadata": {},
   "outputs": [],
   "source": [
    "import warnings\n",
    "warnings.filterwarnings(\"ignore\")\n",
    "\n",
    "import tensorflow as tf\n",
    "from tensorflow.contrib.tensorboard.plugins import projector"
   ]
  },
  {
   "cell_type": "code",
   "execution_count": null,
   "metadata": {},
   "outputs": [],
   "source": [
    "LOG_DIR = 'minimalsample'\n",
    "NAME_TO_VISUALISE_VARIABLE = \"example_embeddings\"\n",
    "path_for_mnist_metadata =  'metadata.tsv'"
   ]
  },
  {
   "cell_type": "code",
   "execution_count": null,
   "metadata": {},
   "outputs": [],
   "source": [
    "token_embeddings_np = torch.stack(concatenated_lats_4_layers).numpy()"
   ]
  },
  {
   "cell_type": "code",
   "execution_count": null,
   "metadata": {},
   "outputs": [],
   "source": [
    "embedding_var = tf.Variable(token_embeddings_np, name=NAME_TO_VISUALISE_VARIABLE)\n",
    "summary_writer = tf.summary.FileWriter(LOG_DIR)"
   ]
  },
  {
   "cell_type": "code",
   "execution_count": null,
   "metadata": {},
   "outputs": [],
   "source": [
    "config = projector.ProjectorConfig()\n",
    "embedding = config.embeddings.add()\n",
    "embedding.tensor_name = embedding_var.name\n",
    "\n",
    "# Specify where you find the metadata\n",
    "embedding.metadata_path = path_for_mnist_metadata #'metadata.tsv'\n",
    "\n",
    "# Say that you want to visualise the embeddings\n",
    "projector.visualize_embeddings(summary_writer, config)"
   ]
  },
  {
   "cell_type": "code",
   "execution_count": null,
   "metadata": {},
   "outputs": [],
   "source": [
    "sess = tf.InteractiveSession()\n",
    "sess.run(tf.global_variables_initializer())\n",
    "saver = tf.train.Saver()\n",
    "saver.save(sess, os.path.join(LOG_DIR, \"model.ckpt\"), 1)"
   ]
  },
  {
   "cell_type": "code",
   "execution_count": null,
   "metadata": {},
   "outputs": [],
   "source": [
    "with open(path_for_mnist_metadata,'w') as f:\n",
    "    f.write(\"Index\\tLabel\\n\")\n",
    "    for index,label in enumerate(tokenized_text):\n",
    "        f.write(\"%d\\t %s\\n\" % (index,label.encode('utf-8')))"
   ]
  }
 ],
 "metadata": {
  "kernelspec": {
   "display_name": "Python 3",
   "language": "python",
   "name": "python3"
  },
  "language_info": {
   "codemirror_mode": {
    "name": "ipython",
    "version": 3
   },
   "file_extension": ".py",
   "mimetype": "text/x-python",
   "name": "python",
   "nbconvert_exporter": "python",
   "pygments_lexer": "ipython3",
   "version": "3.7.3"
  }
 },
 "nbformat": 4,
 "nbformat_minor": 4
}
