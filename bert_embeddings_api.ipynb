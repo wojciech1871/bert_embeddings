{
 "cells": [
  {
   "cell_type": "markdown",
   "metadata": {},
   "source": [
    "## Bert - POC"
   ]
  },
  {
   "cell_type": "code",
   "execution_count": 3,
   "metadata": {},
   "outputs": [],
   "source": [
    "import numpy as np\n",
    "import torch\n",
    "from pytorch_pretrained_bert import BertTokenizer, BertModel, BertForMaskedLM\n",
    "\n",
    "import os\n",
    "import logging\n",
    "import matplotlib.pyplot as plt\n",
    "import seaborn as sns\n",
    "%matplotlib inline"
   ]
  },
  {
   "cell_type": "code",
   "execution_count": 4,
   "metadata": {},
   "outputs": [],
   "source": [
    "class BertBaseMultilingualEmbeddingApi:\n",
    "    \n",
    "    def __init__(self, model_name=\"bert-base-multilingual-cased\", cuda=True):\n",
    "        self.device = 'cuda:0' if torch.cuda.is_available() else 'cpu'\n",
    "        self.tokenizer = BertTokenizer.from_pretrained(model_name)\n",
    "        self.model = BertModel.from_pretrained(model_name).to(self.device)\n",
    "        self.model.eval()\n",
    "        \n",
    "        self.tokens_tensor = None\n",
    "        self.segments_tensor = None\n",
    "        \n",
    "        self.encoded_layers_ = None\n",
    "        self.token_embeddings_ = None\n",
    "        \n",
    "    def _tokenize_text(self, text):\n",
    "        marked_text = \"[CLS] \" + text + \" [SEP]\"\n",
    "        tokenized_text = self.tokenizer.tokenize(marked_text)\n",
    "        indexed_tokens = self.tokenizer.convert_tokens_to_ids(tokenized_text)\n",
    "        segments_ids = [1] * len(tokenized_text)\n",
    "        \n",
    "        self.tokens_tensor = torch.tensor([indexed_tokens]).to(self.device)\n",
    "        self.segments_tensor = torch.tensor([segments_ids]).to(self.device)\n",
    "    \n",
    "    def _evaluate(self):\n",
    "        with torch.no_grad():\n",
    "            encoded_layers, _ = self.model(self.tokens_tensor, self.segments_tensor)\n",
    "        self.encoded_layers_ = encoded_layers\n",
    "    \n",
    "    def _generate_token_embeddings(self, batch_i=0):\n",
    "        \"\"\"\n",
    "        Convert the hidden state embeddings into single token vectors\n",
    "        Holds the list of 12 layer embeddings for each token\n",
    "        Will have the shape: [# tokens, # layers, # features]\n",
    "        \"\"\"\n",
    "        token_embeddings = [] \n",
    "        # For each token in the sentence...\n",
    "        for token_i in range(len(self.encoded_layers_[-1][batch_i])):\n",
    "            # Holds 12 layers of hidden states for each token \n",
    "            hidden_layers = [] \n",
    "            # For each of the 12 layers...\n",
    "            for layer_i in range(len(self.encoded_layers_)):\n",
    "            # Lookup the vector for `token_i` in `layer_i`\n",
    "                vec = self.encoded_layers_[layer_i][batch_i][token_i]\n",
    "                hidden_layers.append(vec)\n",
    "            token_embeddings.append(hidden_layers)\n",
    "        self.token_embeddings_ = token_embeddings\n",
    "    \n",
    "    def feed_forward(self, sentence):\n",
    "        self._tokenize_text(sentence)\n",
    "        self._evaluate()\n",
    "        self._generate_token_embeddings()\n",
    "    \n",
    "    def create_word_embedding_(self, how=\"cat_last_4\"):\n",
    "        if how == \"cat_last_4\":\n",
    "            return [torch.cat((layer[-1], layer[-2], layer[-3], layer[-4]), 0) for layer in self.token_embeddings_]\n",
    "        elif how == \"sum_last_4\":\n",
    "            return [torch.sum(torch.stack(layer)[-4:], 0) for layer in self.token_embeddings_]\n",
    "        else:\n",
    "            print(\"Redefine `how` parameter\")\n",
    "        \n",
    "    def create_sentence_embedding_(self, how=\"mean_last_layer\"):\n",
    "        if how == \"mean_last_layer\":\n",
    "            return torch.mean(self.encoded_layers_[-1], 1).squeeze()\n",
    "        else:\n",
    "            print(\"Redefine `how` parameter\")\n",
    "            \n",
    "    def print_dimensions_(self):\n",
    "        print (\"Number of layers:\", len(self.encoded_layers_))\n",
    "        layer_i = 0\n",
    "        print (\"Number of batches:\", len(self.encoded_layers_[layer_i]))\n",
    "        batch_i = 0\n",
    "        print (\"Number of tokens:\", len(self.encoded_layers_[layer_i][batch_i]))\n",
    "        token_i = 0\n",
    "        print (\"Number of hidden units:\", len(self.encoded_layers_[layer_i][batch_i][token_i]))\n",
    "        \n",
    "    def plot_embedding_hist(self, vec):\n",
    "        sns.set_style(\"whitegrid\")\n",
    "        plt.figure(figsize=(12, 8))\n",
    "        sns.distplot(vec)\n",
    "        plt.show()"
   ]
  },
  {
   "cell_type": "markdown",
   "metadata": {},
   "source": [
    "## Text Preprocessing"
   ]
  },
  {
   "cell_type": "code",
   "execution_count": 13,
   "metadata": {},
   "outputs": [],
   "source": [
    "import codecs\n",
    "from pprint import pprint\n",
    "NUMBER_OF_FILES_TO_OPEN = 1"
   ]
  },
  {
   "cell_type": "code",
   "execution_count": 16,
   "metadata": {},
   "outputs": [
    {
     "name": "stdout",
     "output_type": "stream",
     "text": [
      "('Tomasza <Entity name=\"Tomasz Sekielski\" type=\"person\" '\n",
      " 'category=\"dziennikarze\">Sekielskiego</Entity> oburzyła wypowiedź prof. '\n",
      " 'Mariana Filara. Wybitny prawnik stwierdził, że nawet jeśli znalezione w celi '\n",
      " 'Mariusza T. to prowokacja - postąpiono słusznie. - Nie wiem, co się stało '\n",
      " 'profesorowi. Proponuje bardzo niebezpieczną drogę. Mariusz T. nigdy nie '\n",
      " 'powinien wyjść na wolność. Ale nie można w tym celu łamać prawa - mówił '\n",
      " '<Entity name=\"Tomasz Sekielski\" type=\"person\" '\n",
      " 'category=\"dziennikarze\">Sekielski</Entity> w TOK FM. \"Człowiek, który '\n",
      " 'zdecydował o podrzuceniu Mariuszowi T. do celi kompromitujących materiałów, '\n",
      " 'postawił na szali jedne wartości przeciw drugim. Postawił naruszenie prawa '\n",
      " 'przeciw ludzkiemu bezpieczeństwu. W mojej ocenie wybrał słusznie\" - tak w '\n",
      " 'wywiadzie dla \"Gazety Wyborczej\" prof. <Entity name=\"Marian Filar\" '\n",
      " 'type=\"person\" category=\"muzycy\">Marian Filar</Entity> komentował informacje '\n",
      " 'o znalezieniu w celi Mariusza T. materiałów z pornografią dziecięcą. Słowa '\n",
      " 'prawnika zaskoczyły i oburzyły <Entity name=\"Tomasz Sekielski\" type=\"person\" '\n",
      " 'category=\"dziennikarze\">Tomasza Sekielskiego</Entity>. Dziennikarz TVP '\n",
      " 'przyznał, że kiedy rozmowa ukazała się w internecie, przeczytał ją kilka '\n",
      " 'razy. Bo nie mógł uwierzyć, w to co zobaczył. - Nie wiem, co się stało panu '\n",
      " 'profesorowi. Prawnik tak często piętnujący naginanie prawa, wykorzystywanie '\n",
      " 'go do doraźnych celów politycznych, teraz ogłasza oto, że prawo jest '\n",
      " 'nieważne. Że w imię wyimaginowanej wyższej konieczności można nie tylko '\n",
      " 'manipulować prawem, ale także działać poza nim - komentował gospodarz '\n",
      " '\"Poranka Radia TOK FM\". Zdaniem <Entity name=\"Tomasz Sekielski\" '\n",
      " 'type=\"person\" category=\"dziennikarze\">Sekielskiego</Entity> prawnik z UMK w '\n",
      " 'Toruniu proponuje \"bardzo niebezpieczną drogę\". - Prowadzącą wprost do '\n",
      " 'państwa totalitarnego, w którym jakiś urzędnik lub polityk mogą dowolnie i '\n",
      " 'bezkarnie decydować o czyimś życiu. Tak na marginesie, może od razu '\n",
      " 'należałoby powołać szwadrony śmierci, by ostatecznie rozwiązywałyby '\n",
      " 'problemy. Dziennikarz nie ma wątpliwości - Mariusz T. nie powinien nigdy '\n",
      " 'wyjść z więzienia. - Ale nie można w tym celu łamać prawa, bo za chwilę w '\n",
      " 'podobnej sytuacji może się znaleźć nie tylko morderca-pedofil - powiedział '\n",
      " '<Entity name=\"Tomasz Sekielski\" type=\"person\" category=\"dziennikarze\">Tomasz '\n",
      " 'Sekielski</Entity>.')\n"
     ]
    }
   ],
   "source": [
    "corpusNews = list()\n",
    "for i in range(0,NUMBER_OF_FILES_TO_OPEN):\n",
    "    f = codecs.open(\"doc\"+str(i+1), \"r\", encoding = 'utf-8')\n",
    "    for line in f:\n",
    "        corpusNews.append(line)\n",
    "    f.close()\n",
    "pprint(corpusNews[0])"
   ]
  },
  {
   "cell_type": "markdown",
   "metadata": {},
   "source": [
    "Below are functions from Piter, that I did not changed (but use it differently):"
   ]
  },
  {
   "cell_type": "code",
   "execution_count": 25,
   "metadata": {},
   "outputs": [],
   "source": [
    "def find_annotations(document : str):\n",
    "    '''\n",
    "    Searches for all occurances of '<' and '>' in the document.\n",
    "    Returns lists of indexes of occurances opening for '<' and closing for '>'\n",
    "    '''\n",
    "    i = 0\n",
    "    opening = list()\n",
    "    closing = list()\n",
    "    while i != -1:\n",
    "        i = document.find('<', i)\n",
    "        opening.append(i)\n",
    "        if i == -1:\n",
    "            closing.append(-1)\n",
    "            break\n",
    "        i = document.find('>', i)\n",
    "        closing.append(i)\n",
    "    closing = [cl + 1 for cl in closing]\n",
    "    closing[-1] = -1\n",
    "    return(opening, closing)\n",
    "\n",
    "def get_annotation_values(text : str): # jest typ nie type, bo type jest zarezerwowana nazwa, nie jestem uposledzony\n",
    "    '''\n",
    "    Returns a dict consisting annotation values {'name', 'typ', 'category'} for first occuring annotation\n",
    "    in the text.\n",
    "    '''\n",
    "    name_start = text.find('name=') + len('name=\\\"')\n",
    "    name_end = text.find('\\\"', name_start)\n",
    "    typ_start = text.find('type=', name_end) + len('type=\\\"')\n",
    "    typ_end = text.find('\\\"', typ_start)\n",
    "    category_start = text.find('category', typ_end) + len('category=\\\"')\n",
    "    category_end = text.find('\\\"', category_start)\n",
    "    return({'name' : text[name_start:name_end], 'typ' : text[typ_start:typ_end],\n",
    "               'category' : text[category_start:category_end]})\n",
    "\n",
    "def exclude_vectors_for_person(list_of_vectors, person):\n",
    "    '''\n",
    "    list_of_vectors - return value from exclude_sentence_vectors()\n",
    "    person - name of person from people_dict\n",
    "    '''\n",
    "    l = list()\n",
    "    for el in list_of_vectors:\n",
    "        if el[1] == person:\n",
    "            l.append(el[0])\n",
    "    return l"
   ]
  },
  {
   "cell_type": "markdown",
   "metadata": {},
   "source": [
    "And our function for sentences:"
   ]
  },
  {
   "cell_type": "code",
   "execution_count": 26,
   "metadata": {},
   "outputs": [],
   "source": [
    "def exclude_sentence_vectors(text):\n",
    "    people_dict = {}\n",
    "    sentences = text.split(\".\")\n",
    "    contexts = []\n",
    "    for sentence in sentences:\n",
    "        opn, cls = find_annotations(sentence)\n",
    "        if opn[0] != -1:\n",
    "            annotation = get_annotation_values(sentence)\n",
    "            sentence = sentence[0:opn[0]] + sentence[cls[-2]:]\n",
    "            contexts.append([sentence, annotation[\"name\"]])\n",
    "            try:\n",
    "                people_dict[annotation[\"category\"]].add(annotation[\"name\"])\n",
    "            except KeyError:\n",
    "                people_dict[annotation[\"category\"]] = {annotation[\"name\"]}\n",
    "    return contexts, people_dict\n"
   ]
  },
  {
   "cell_type": "code",
   "execution_count": 27,
   "metadata": {},
   "outputs": [
    {
     "name": "stdout",
     "output_type": "stream",
     "text": [
      "[['Tomasza  oburzyła wypowiedź prof', 'Tomasz Sekielski'], [' Ale nie można w tym celu łamać prawa - mówił  w TOK FM', 'Tomasz Sekielski'], ['  komentował informacje o znalezieniu w celi Mariusza T', 'Marian Filar'], [' Słowa prawnika zaskoczyły i oburzyły ', 'Tomasz Sekielski'], [' Zdaniem  prawnik z UMK w Toruniu proponuje \"bardzo niebezpieczną drogę\"', 'Tomasz Sekielski'], [' - Ale nie można w tym celu łamać prawa, bo za chwilę w podobnej sytuacji może się znaleźć nie tylko morderca-pedofil - powiedział ', 'Tomasz Sekielski']]\n",
      "{'dziennikarze': {'Tomasz Sekielski'}, 'muzycy': {'Marian Filar'}}\n"
     ]
    }
   ],
   "source": [
    "vectors, people_dict = exclude_sentence_vectors(corpusNews[0])\n",
    "print(vectors)\n",
    "print(people_dict)"
   ]
  },
  {
   "cell_type": "code",
   "execution_count": 29,
   "metadata": {},
   "outputs": [
    {
     "name": "stdout",
     "output_type": "stream",
     "text": [
      "['Tomasza  oburzyła wypowiedź prof', ' Ale nie można w tym celu łamać prawa - mówił  w TOK FM', ' Słowa prawnika zaskoczyły i oburzyły ', ' Zdaniem  prawnik z UMK w Toruniu proponuje \"bardzo niebezpieczną drogę\"', ' - Ale nie można w tym celu łamać prawa, bo za chwilę w podobnej sytuacji może się znaleźć nie tylko morderca-pedofil - powiedział ']\n"
     ]
    }
   ],
   "source": [
    "print(exclude_vectors_for_person(vectors, \"Tomasz Sekielski\"))"
   ]
  },
  {
   "cell_type": "markdown",
   "metadata": {},
   "source": [
    "## Example usage"
   ]
  },
  {
   "cell_type": "markdown",
   "metadata": {},
   "source": [
    "1. Create API object"
   ]
  },
  {
   "cell_type": "code",
   "execution_count": 5,
   "metadata": {},
   "outputs": [
    {
     "name": "stderr",
     "output_type": "stream",
     "text": [
      "The pre-trained model you are loading is a cased model but you have not set `do_lower_case` to False. We are setting `do_lower_case=False` for you but you may want to check this behavior.\n",
      "100%|██████████| 662804195/662804195 [10:41<00:00, 1032855.28B/s]\n"
     ]
    }
   ],
   "source": [
    "bert = BertBaseMultilingualEmbeddingApi()"
   ]
  },
  {
   "cell_type": "markdown",
   "metadata": {},
   "source": [
    "2. Create sentence and pass to feed_forward method"
   ]
  },
  {
   "cell_type": "code",
   "execution_count": 6,
   "metadata": {},
   "outputs": [],
   "source": [
    "sentence = \"Oszczędnością i pracą ludzie się bogacą.\"\n",
    "bert.feed_forward(sentence)"
   ]
  },
  {
   "cell_type": "markdown",
   "metadata": {},
   "source": [
    "3. Generate word/sentence embedding, specify `how`"
   ]
  },
  {
   "cell_type": "code",
   "execution_count": 7,
   "metadata": {},
   "outputs": [],
   "source": [
    "words_embeddings = bert.create_word_embedding_(how = \"sum_last_4\")"
   ]
  },
  {
   "cell_type": "code",
   "execution_count": 8,
   "metadata": {},
   "outputs": [],
   "source": [
    "sent_embedding = bert.create_sentence_embedding_()"
   ]
  },
  {
   "cell_type": "markdown",
   "metadata": {},
   "source": [
    "4. Visualize tensor"
   ]
  },
  {
   "cell_type": "code",
   "execution_count": 12,
   "metadata": {},
   "outputs": [
    {
     "data": {
      "image/png": "[encoded data removed]",
      "text/plain": [
       "<Figure size 864x576 with 1 Axes>"
      ]
     },
     "metadata": {},
     "output_type": "display_data"
    }
   ],
   "source": [
    "bert.plot_embedding_hist(sent_embedding)"
   ]
  },
  {
   "cell_type": "markdown",
   "metadata": {},
   "source": [
    "## Visualize embeddings in tensorboard"
   ]
  },
  {
   "cell_type": "code",
   "execution_count": null,
   "metadata": {},
   "outputs": [],
   "source": [
    "import warnings\n",
    "warnings.filterwarnings(\"ignore\")\n",
    "\n",
    "import tensorflow as tf\n",
    "from tensorflow.contrib.tensorboard.plugins import projector"
   ]
  },
  {
   "cell_type": "code",
   "execution_count": 10,
   "metadata": {},
   "outputs": [],
   "source": [
    "LOG_DIR = 'minimalsample'\n",
    "NAME_TO_VISUALISE_VARIABLE = \"example_embeddings\"\n",
    "path_for_mnist_metadata =  'metadata.tsv'"
   ]
  },
  {
   "cell_type": "code",
   "execution_count": 11,
   "metadata": {},
   "outputs": [],
   "source": [
    "token_embeddings_np = torch.stack(concatenated_lats_4_layers).numpy()"
   ]
  },
  {
   "cell_type": "code",
   "execution_count": null,
   "metadata": {},
   "outputs": [],
   "source": [
    "embedding_var = tf.Variable(token_embeddings_np, name=NAME_TO_VISUALISE_VARIABLE)\n",
    "summary_writer = tf.summary.FileWriter(LOG_DIR)"
   ]
  },
  {
   "cell_type": "code",
   "execution_count": null,
   "metadata": {},
   "outputs": [],
   "source": [
    "config = projector.ProjectorConfig()\n",
    "embedding = config.embeddings.add()\n",
    "embedding.tensor_name = embedding_var.name\n",
    "\n",
    "# Specify where you find the metadata\n",
    "embedding.metadata_path = path_for_mnist_metadata #'metadata.tsv'\n",
    "\n",
    "# Say that you want to visualise the embeddings\n",
    "projector.visualize_embeddings(summary_writer, config)"
   ]
  },
  {
   "cell_type": "code",
   "execution_count": null,
   "metadata": {},
   "outputs": [],
   "source": [
    "sess = tf.InteractiveSession()\n",
    "sess.run(tf.global_variables_initializer())\n",
    "saver = tf.train.Saver()\n",
    "saver.save(sess, os.path.join(LOG_DIR, \"model.ckpt\"), 1)"
   ]
  },
  {
   "cell_type": "code",
   "execution_count": null,
   "metadata": {},
   "outputs": [],
   "source": [
    "with open(path_for_mnist_metadata,'w') as f:\n",
    "    f.write(\"Index\\tLabel\\n\")\n",
    "    for index,label in enumerate(tokenized_text):\n",
    "        f.write(\"%d\\t %s\\n\" % (index,label.encode('utf-8')))"
   ]
  }
 ],
 "metadata": {
  "kernelspec": {
   "display_name": "Python 3",
   "language": "python",
   "name": "python3"
  },
  "language_info": {
   "codemirror_mode": {
    "name": "ipython",
    "version": 3
   },
   "file_extension": ".py",
   "mimetype": "text/x-python",
   "name": "python",
   "nbconvert_exporter": "python",
   "pygments_lexer": "ipython3",
   "version": "3.6.8"
  }
 },
 "nbformat": 4,
 "nbformat_minor": 4
}
